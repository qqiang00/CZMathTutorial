{
 "cells": [
  {
   "cell_type": "markdown",
   "id": "dense-container",
   "metadata": {},
   "source": [
    "# <center>Lecture 0 - 家长孩子见面会，课程介绍</center>\n",
    "<center>2021-04-01 19:00</center>\n",
    "\n",
    "## 0. 教学目的和计划\n",
    "- 培养孩子们的逻辑思维\n",
    "- 教授编程知识，提高孩子们的编程能力\n",
    "- 侧面加强对数学、物理等学科知识的掌握\n",
    "- 介绍最基本的计算机科学技术相关的知识\n",
    "- 时间安排：每周1次，协商时间，可考虑周六7:00PM 多伦多蒙特利尔本地时间\n",
    "\n",
    "\n",
    "## 1. 教学方法及每课时间大概划分\n",
    "- 前节练习讲解（5分钟）\n",
    "- 提出本讲新问题（5分钟）\n",
    "- 讲解演示（20分钟）\n",
    "- 课堂练习（10分钟）\n",
    "- 课后练习（不定时）\n",
    "\n",
    "## 2. 语言选择\n",
    "- 口头交流：中文\n",
    "- 书面作业：英文为主\n",
    "\n",
    "## 3. 家长配合\n",
    "- 提醒孩子提前10分钟开始准备上课电脑，协助或让孩子自己打开编程环境\n",
    "- 课后督促孩子们完成布置的编程作业\n",
    "- 提醒孩子提交作业\n",
    "- 留意孩子作业的评语\n",
    "\n",
    "\n",
    "## 4. 第一次课程前准备\n",
    "- 帮孩子搭建编程环境\n",
    "- 留意孩子电脑的操作系统MacOS, Windows\n",
    "- Jupyter Notebook介绍"
   ]
  },
  {
   "cell_type": "code",
   "execution_count": null,
   "id": "binary-application",
   "metadata": {},
   "outputs": [],
   "source": []
  }
 ],
 "metadata": {
  "kernelspec": {
   "display_name": "Python 3",
   "language": "python",
   "name": "python3"
  },
  "language_info": {
   "codemirror_mode": {
    "name": "ipython",
    "version": 3
   },
   "file_extension": ".py",
   "mimetype": "text/x-python",
   "name": "python",
   "nbconvert_exporter": "python",
   "pygments_lexer": "ipython3",
   "version": "3.9.0"
  }
 },
 "nbformat": 4,
 "nbformat_minor": 5
}
